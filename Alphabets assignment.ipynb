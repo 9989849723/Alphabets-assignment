{
 "cells": [
  {
   "cell_type": "code",
   "execution_count": 1,
   "id": "e0cf2b4c",
   "metadata": {},
   "outputs": [
    {
     "name": "stdout",
     "output_type": "stream",
     "text": [
      "*****\n",
      "*   *\n",
      "*****\n",
      "*   *\n",
      "*   *\n"
     ]
    }
   ],
   "source": [
    "a=1\n",
    "while a<=5:\n",
    "    if a==1:\n",
    "        print(\"*****\")\n",
    "    elif a==2:\n",
    "        print(\"*   *\")\n",
    "    elif a==3:\n",
    "        print(\"*****\")\n",
    "    elif a==4:\n",
    "        print(\"*   *\")\n",
    "    elif a==5:\n",
    "        print(\"*   *\")\n",
    "    a=a+1    "
   ]
  },
  {
   "cell_type": "code",
   "execution_count": 4,
   "id": "8cc05353",
   "metadata": {},
   "outputs": [
    {
     "name": "stdout",
     "output_type": "stream",
     "text": [
      "*****\n",
      "*    *\n",
      "*****\n",
      "*    *\n",
      "*****\n"
     ]
    }
   ],
   "source": [
    "a=1\n",
    "while a<=5:\n",
    "    if a==1:\n",
    "        print(\"*****\")\n",
    "    elif a==2:\n",
    "        print(\"*    *\")\n",
    "    elif a==3:\n",
    "        print(\"*****\")\n",
    "    elif a==4:\n",
    "        print(\"*    *\")\n",
    "    elif a==5:\n",
    "        print(\"*****\")\n",
    "    a=a+1    \n",
    "    "
   ]
  },
  {
   "cell_type": "code",
   "execution_count": 1,
   "id": "0dc18efa",
   "metadata": {},
   "outputs": [
    {
     "name": "stdout",
     "output_type": "stream",
     "text": [
      "*****\n",
      "*    \n",
      "*    \n",
      "*    \n",
      "*****\n"
     ]
    }
   ],
   "source": [
    "a=1\n",
    "while a<=5:\n",
    "    if a==1:\n",
    "        print(\"*****\")\n",
    "    elif a==2:\n",
    "        print(\"*    \")\n",
    "    elif a==3:\n",
    "        print(\"*    \")\n",
    "    elif a==4:\n",
    "        print(\"*    \")\n",
    "    elif a==5:\n",
    "        print(\"*****\")\n",
    "    a=a+1\n",
    "        "
   ]
  },
  {
   "cell_type": "code",
   "execution_count": 3,
   "id": "d5f5a8a1",
   "metadata": {},
   "outputs": [
    {
     "name": "stdout",
     "output_type": "stream",
     "text": [
      "****\n",
      "*   *\n",
      "*   *\n",
      "*   *\n",
      "****\n"
     ]
    }
   ],
   "source": [
    "a=1\n",
    "while a<=5:\n",
    "    if a==1:\n",
    "        print(\"****\")\n",
    "    elif a==2:\n",
    "        print(\"*   *\")\n",
    "    elif a==3:\n",
    "        print(\"*   *\")\n",
    "    elif a==4:\n",
    "        print(\"*   *\")\n",
    "    elif a==5:\n",
    "        print(\"****\")\n",
    "    a=a+1    "
   ]
  },
  {
   "cell_type": "code",
   "execution_count": 1,
   "id": "d0c2390a",
   "metadata": {},
   "outputs": [
    {
     "name": "stdout",
     "output_type": "stream",
     "text": [
      "*****\n",
      "*    \n",
      "*****\n",
      "*    \n",
      "*****\n"
     ]
    }
   ],
   "source": [
    "a=1\n",
    "while a<=5:\n",
    "    if a==1:\n",
    "        print(\"*****\")\n",
    "    elif a==2:\n",
    "        print(\"*    \")\n",
    "    elif a==3:\n",
    "        print(\"*****\")\n",
    "    elif a==4:\n",
    "        print(\"*    \")\n",
    "    elif a==5:\n",
    "        print(\"*****\")\n",
    "    a=a+1    "
   ]
  },
  {
   "cell_type": "code",
   "execution_count": 2,
   "id": "2a681f1f",
   "metadata": {},
   "outputs": [
    {
     "name": "stdout",
     "output_type": "stream",
     "text": [
      "*****\n",
      "*    \n",
      "*****\n",
      "*    \n",
      "*    \n"
     ]
    }
   ],
   "source": [
    "a=1\n",
    "while a<=5:\n",
    "    if a==1:\n",
    "        print(\"*****\")\n",
    "    elif a==2:\n",
    "        print(\"*    \")\n",
    "    elif a==3:\n",
    "        print(\"*****\")\n",
    "    elif a==4:\n",
    "        print(\"*    \")\n",
    "    elif a==5:\n",
    "        print(\"*    \")\n",
    "    a=a+1    "
   ]
  },
  {
   "cell_type": "code",
   "execution_count": 3,
   "id": "40fecbe1",
   "metadata": {},
   "outputs": [
    {
     "name": "stdout",
     "output_type": "stream",
     "text": [
      "****\n",
      "*    \n",
      "*  **\n",
      "*   **\n",
      "*****\n"
     ]
    }
   ],
   "source": [
    "a=1\n",
    "while a<=5:\n",
    "    if a==1:\n",
    "        print(\"****\")\n",
    "    elif a==2:\n",
    "        print(\"*    \")\n",
    "    elif a==3:\n",
    "        print(\"*  **\")\n",
    "    elif a==4:\n",
    "        print(\"*   **\")\n",
    "    elif a==5:\n",
    "        print(\"*****\")\n",
    "    a=a+1   "
   ]
  },
  {
   "cell_type": "code",
   "execution_count": 2,
   "id": "39cdf6e5",
   "metadata": {},
   "outputs": [
    {
     "name": "stdout",
     "output_type": "stream",
     "text": [
      "*   *\n",
      "*   *\n",
      "*****\n",
      "*   *\n",
      "*   *\n"
     ]
    }
   ],
   "source": [
    "a=1\n",
    "while a<=5:\n",
    "    if a==1:\n",
    "        print(\"*   *\")\n",
    "    elif a==2:\n",
    "        print(\"*   *\")\n",
    "    elif a==3:\n",
    "        print(\"*****\")\n",
    "    elif a==4:\n",
    "        print(\"*   *\")\n",
    "    elif a==5:\n",
    "        print(\"*   *\")\n",
    "    a=a+1   "
   ]
  },
  {
   "cell_type": "code",
   "execution_count": 3,
   "id": "038a5129",
   "metadata": {},
   "outputs": [
    {
     "name": "stdout",
     "output_type": "stream",
     "text": [
      "*****\n",
      "  *  \n",
      "  *  \n",
      "  *  \n",
      "*****\n"
     ]
    }
   ],
   "source": [
    "a=1\n",
    "while a<=5:\n",
    "    if a==1:\n",
    "        print(\"*****\")\n",
    "    elif a==2:\n",
    "        print(\"  *  \")\n",
    "    elif a==3:\n",
    "        print(\"  *  \")\n",
    "    elif a==4:\n",
    "        print(\"  *  \")\n",
    "    elif a==5:\n",
    "        print(\"*****\")\n",
    "    a=a+1   "
   ]
  },
  {
   "cell_type": "code",
   "execution_count": 4,
   "id": "ce28e7ad",
   "metadata": {},
   "outputs": [
    {
     "name": "stdout",
     "output_type": "stream",
     "text": [
      "*****\n",
      "  *  \n",
      "  *  \n",
      "* *  \n",
      "***\n"
     ]
    }
   ],
   "source": [
    "a=1\n",
    "while a<=5:\n",
    "    if a==1:\n",
    "        print(\"*****\")\n",
    "    elif a==2:\n",
    "        print(\"  *  \")\n",
    "    elif a==3:\n",
    "        print(\"  *  \")\n",
    "    elif a==4:\n",
    "        print(\"* *  \")\n",
    "    elif a==5:\n",
    "        print(\"***\")\n",
    "    a=a+1   "
   ]
  },
  {
   "cell_type": "code",
   "execution_count": 6,
   "id": "5dd830ce",
   "metadata": {},
   "outputs": [
    {
     "name": "stdout",
     "output_type": "stream",
     "text": [
      "*   *\n",
      "* *  \n",
      "**   \n",
      "* *  \n",
      "*   *\n"
     ]
    }
   ],
   "source": [
    "a=1\n",
    "while a<=5:\n",
    "    if a==1:\n",
    "        print(\"*   *\")\n",
    "    elif a==2:\n",
    "        print(\"* *  \")\n",
    "    elif a==3:\n",
    "        print(\"**   \")\n",
    "    elif a==4:\n",
    "        print(\"* *  \")\n",
    "    elif a==5:\n",
    "        print(\"*   *\")\n",
    "    a=a+1   "
   ]
  },
  {
   "cell_type": "code",
   "execution_count": 7,
   "id": "21b1b750",
   "metadata": {},
   "outputs": [
    {
     "name": "stdout",
     "output_type": "stream",
     "text": [
      "*    \n",
      "*    \n",
      "*    \n",
      "*    \n",
      "*****\n"
     ]
    }
   ],
   "source": [
    "a=1\n",
    "while a<=5:\n",
    "    if a==1:\n",
    "        print(\"*    \")\n",
    "    elif a==2:\n",
    "        print(\"*    \")\n",
    "    elif a==3:\n",
    "        print(\"*    \")\n",
    "    elif a==4:\n",
    "        print(\"*    \")\n",
    "    elif a==5:\n",
    "        print(\"*****\")\n",
    "    a=a+1   "
   ]
  },
  {
   "cell_type": "code",
   "execution_count": 11,
   "id": "1a39a780",
   "metadata": {},
   "outputs": [
    {
     "name": "stdout",
     "output_type": "stream",
     "text": [
      "*     *\n",
      "*  *  *\n",
      "*     *\n",
      "*     *\n",
      "*     *\n"
     ]
    }
   ],
   "source": [
    "a=1\n",
    "while a<=5:\n",
    "    if a==1:\n",
    "        print(\"*     *\")\n",
    "    elif a==2:\n",
    "        print(\"*  *  *\")\n",
    "    elif a==3:\n",
    "        print(\"*     *\")\n",
    "    elif a==4:\n",
    "        print(\"*     *\")\n",
    "    elif a==5:\n",
    "        print(\"*     *\")\n",
    "    a=a+1  "
   ]
  },
  {
   "cell_type": "code",
   "execution_count": 13,
   "id": "36a54944",
   "metadata": {},
   "outputs": [
    {
     "name": "stdout",
     "output_type": "stream",
     "text": [
      "*      *\n",
      "* *    *\n",
      "*  *   *\n",
      "*   *  *\n",
      "*    * *\n"
     ]
    }
   ],
   "source": [
    "a=1\n",
    "while a<=5:\n",
    "    if a==1:\n",
    "        print(\"*      *\")\n",
    "    elif a==2:\n",
    "        print(\"* *    *\")\n",
    "    elif a==3:\n",
    "        print(\"*  *   *\")\n",
    "    elif a==4:\n",
    "        print(\"*   *  *\")\n",
    "    elif a==5:\n",
    "        print(\"*    * *\")\n",
    "    a=a+1  "
   ]
  },
  {
   "cell_type": "code",
   "execution_count": 14,
   "id": "5538e607",
   "metadata": {},
   "outputs": [
    {
     "name": "stdout",
     "output_type": "stream",
     "text": [
      "*******\n",
      "*     *\n",
      "*     *\n",
      "*     *\n",
      "*******\n"
     ]
    }
   ],
   "source": [
    "a=1\n",
    "while a<=5:\n",
    "    if a==1:\n",
    "        print(\"*******\")\n",
    "    elif a==2:\n",
    "        print(\"*     *\")\n",
    "    elif a==3:\n",
    "        print(\"*     *\")\n",
    "    elif a==4:\n",
    "        print(\"*     *\")\n",
    "    elif a==5:\n",
    "        print(\"*******\")\n",
    "    a=a+1  "
   ]
  },
  {
   "cell_type": "code",
   "execution_count": 15,
   "id": "d6673bd5",
   "metadata": {},
   "outputs": [
    {
     "name": "stdout",
     "output_type": "stream",
     "text": [
      "*******\n",
      "*     *\n",
      "*******\n",
      "*      \n",
      "*      \n"
     ]
    }
   ],
   "source": [
    "a=1\n",
    "while a<=5:\n",
    "    if a==1:\n",
    "        print(\"*******\")\n",
    "    elif a==2:\n",
    "        print(\"*     *\")\n",
    "    elif a==3:\n",
    "        print(\"*******\")  \n",
    "    elif a==4:\n",
    "        print(\"*      \")\n",
    "    elif a==5:\n",
    "        print(\"*      \")\n",
    "    a=a+1  "
   ]
  },
  {
   "cell_type": "code",
   "execution_count": 16,
   "id": "4d62173f",
   "metadata": {},
   "outputs": [
    {
     "name": "stdout",
     "output_type": "stream",
     "text": [
      " *** \n",
      "*   *\n",
      "* * *\n",
      " *** \n",
      "    *\n"
     ]
    }
   ],
   "source": [
    "a=1\n",
    "while a<=5:\n",
    "    if a==1:\n",
    "        print(\" *** \")\n",
    "    elif a==2:\n",
    "        print(\"*   *\")\n",
    "    elif a==3:\n",
    "        print(\"* * *\")\n",
    "    elif a==4:\n",
    "        print(\" *** \")\n",
    "    elif a==5:\n",
    "        print(\"    *\")\n",
    "    a=a+1  "
   ]
  },
  {
   "cell_type": "code",
   "execution_count": 18,
   "id": "5e4c7560",
   "metadata": {},
   "outputs": [
    {
     "name": "stdout",
     "output_type": "stream",
     "text": [
      "*****\n",
      "*   *\n",
      "*****\n",
      "* *  \n",
      "*   *\n"
     ]
    }
   ],
   "source": [
    "a=1\n",
    "while a<=5:\n",
    "    if a==1:\n",
    "        print(\"*****\")\n",
    "    elif a==2:\n",
    "        print(\"*   *\")\n",
    "    elif a==3:\n",
    "        print(\"*****\")\n",
    "    elif a==4:\n",
    "        print(\"* *  \")\n",
    "    elif a==5:\n",
    "        print(\"*   *\")\n",
    "    a=a+1  "
   ]
  },
  {
   "cell_type": "code",
   "execution_count": 19,
   "id": "37cf9d2f",
   "metadata": {},
   "outputs": [
    {
     "name": "stdout",
     "output_type": "stream",
     "text": [
      "*****\n",
      "*    \n",
      "*****\n",
      "    *\n",
      "*****\n"
     ]
    }
   ],
   "source": [
    "a=1\n",
    "while a<=5:\n",
    "    if a==1:\n",
    "        print(\"*****\")\n",
    "    elif a==2:\n",
    "        print(\"*    \")\n",
    "    elif a==3:\n",
    "        print(\"*****\")\n",
    "    elif a==4:\n",
    "        print(\"    *\")\n",
    "    elif a==5:\n",
    "        print(\"*****\")\n",
    "    a=a+1  "
   ]
  },
  {
   "cell_type": "code",
   "execution_count": 20,
   "id": "4c5cc7f4",
   "metadata": {},
   "outputs": [
    {
     "name": "stdout",
     "output_type": "stream",
     "text": [
      "*****\n",
      "  *  \n",
      "  *  \n",
      "  *  \n",
      "  *  \n"
     ]
    }
   ],
   "source": [
    "a=1\n",
    "while a<=5:\n",
    "    if a==1:\n",
    "        print(\"*****\")\n",
    "    elif a==2:\n",
    "        print(\"  *  \")\n",
    "    elif a==3:\n",
    "        print(\"  *  \")\n",
    "    elif a==4:\n",
    "        print(\"  *  \")\n",
    "    elif a==5:\n",
    "        print(\"  *  \")\n",
    "    a=a+1  "
   ]
  },
  {
   "cell_type": "code",
   "execution_count": 22,
   "id": "34e69898",
   "metadata": {},
   "outputs": [
    {
     "name": "stdout",
     "output_type": "stream",
     "text": [
      "*   *\n",
      "*   *\n",
      "*   *\n",
      "*   *\n",
      " *** \n"
     ]
    }
   ],
   "source": [
    "a=1\n",
    "while a<=5:\n",
    "    if a==1:\n",
    "        print(\"*   *\")\n",
    "    elif a==2:\n",
    "        print(\"*   *\")\n",
    "    elif a==3:\n",
    "        print(\"*   *\")\n",
    "    elif a==4:\n",
    "        print(\"*   *\")\n",
    "    elif a==5:\n",
    "        print(\" *** \")\n",
    "    a=a+1  "
   ]
  },
  {
   "cell_type": "code",
   "execution_count": 23,
   "id": "32c87c92",
   "metadata": {},
   "outputs": [
    {
     "name": "stdout",
     "output_type": "stream",
     "text": [
      "*   *\n",
      "*   *\n",
      "*   *\n",
      "*   *\n",
      " **  \n"
     ]
    }
   ],
   "source": [
    "a=1\n",
    "while a<=5:\n",
    "    if a==1:\n",
    "        print(\"*   *\")\n",
    "    elif a==2:\n",
    "        print(\"*   *\")\n",
    "    elif a==3:\n",
    "        print(\"*   *\")\n",
    "    elif a==4:\n",
    "        print(\"*   *\")\n",
    "    elif a==5:\n",
    "        print(\" **  \")\n",
    "    a=a+1  "
   ]
  },
  {
   "cell_type": "code",
   "execution_count": 24,
   "id": "5a7405bb",
   "metadata": {},
   "outputs": [
    {
     "name": "stdout",
     "output_type": "stream",
     "text": [
      "*   *\n",
      "*   *\n",
      "*   *\n",
      "* * *\n",
      "*   *\n"
     ]
    }
   ],
   "source": [
    "a=1\n",
    "while a<=5:\n",
    "    if a==1:\n",
    "        print(\"*   *\")\n",
    "    elif a==2:\n",
    "        print(\"*   *\")\n",
    "    elif a==3:\n",
    "        print(\"*   *\")\n",
    "    elif a==4:\n",
    "        print(\"* * *\")\n",
    "    elif a==5:\n",
    "        print(\"*   *\")\n",
    "    a=a+1  "
   ]
  },
  {
   "cell_type": "code",
   "execution_count": 25,
   "id": "a11b78a4",
   "metadata": {},
   "outputs": [
    {
     "name": "stdout",
     "output_type": "stream",
     "text": [
      "*   *\n",
      " * * \n",
      "  *  \n",
      " * * \n",
      "*   *\n"
     ]
    }
   ],
   "source": [
    "a=1\n",
    "while a<=5:\n",
    "    if a==1:\n",
    "        print(\"*   *\")\n",
    "    elif a==2:\n",
    "        print(\" * * \")\n",
    "    elif a==3:\n",
    "        print(\"  *  \")\n",
    "    elif a==4:\n",
    "        print(\" * * \")\n",
    "    elif a==5:\n",
    "        print(\"*   *\")\n",
    "    a=a+1 "
   ]
  },
  {
   "cell_type": "code",
   "execution_count": 26,
   "id": "a40088ad",
   "metadata": {},
   "outputs": [
    {
     "name": "stdout",
     "output_type": "stream",
     "text": [
      "*   *\n",
      " * * \n",
      "  *  \n",
      " *   \n",
      "*    \n"
     ]
    }
   ],
   "source": [
    "a=1\n",
    "while a<=5:\n",
    "    if a==1:\n",
    "        print(\"*   *\")\n",
    "    elif a==2:\n",
    "        print(\" * * \")\n",
    "    elif a==3:\n",
    "        print(\"  *  \")\n",
    "    elif a==4:\n",
    "        print(\" *   \")\n",
    "    elif a==5:\n",
    "        print(\"*    \")\n",
    "    a=a+1 "
   ]
  },
  {
   "cell_type": "code",
   "execution_count": 27,
   "id": "d015bc5e",
   "metadata": {},
   "outputs": [
    {
     "name": "stdout",
     "output_type": "stream",
     "text": [
      "*****\n",
      "   * \n",
      "  *  \n",
      " *   \n",
      "*****\n"
     ]
    }
   ],
   "source": [
    "a=1\n",
    "while a<=5:\n",
    "    if a==1:\n",
    "        print(\"*****\")\n",
    "    elif a==2:\n",
    "        print(\"   * \")\n",
    "    elif a==3:\n",
    "        print(\"  *  \")\n",
    "    elif a==4:\n",
    "        print(\" *   \")\n",
    "    elif a==5:\n",
    "        print(\"*****\")\n",
    "        \n",
    "    a=a+1 "
   ]
  },
  {
   "cell_type": "code",
   "execution_count": null,
   "id": "f52995c8",
   "metadata": {},
   "outputs": [],
   "source": []
  }
 ],
 "metadata": {
  "kernelspec": {
   "display_name": "Python 3 (ipykernel)",
   "language": "python",
   "name": "python3"
  },
  "language_info": {
   "codemirror_mode": {
    "name": "ipython",
    "version": 3
   },
   "file_extension": ".py",
   "mimetype": "text/x-python",
   "name": "python",
   "nbconvert_exporter": "python",
   "pygments_lexer": "ipython3",
   "version": "3.9.13"
  }
 },
 "nbformat": 4,
 "nbformat_minor": 5
}
